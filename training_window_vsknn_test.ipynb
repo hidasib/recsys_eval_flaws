{
 "cells": [
  {
   "cell_type": "code",
   "execution_count": 1,
   "metadata": {},
   "outputs": [],
   "source": [
    "import pandas as pd\n",
    "import os\n",
    "\n",
    "from utils.vsknn_train_test_utils import train_test_vsknn_models\n",
    "from utils.experiment_setup import gru4rec_vsknn_setups as setups"
   ]
  },
  {
   "cell_type": "code",
   "execution_count": 2,
   "metadata": {},
   "outputs": [],
   "source": [
    "# To optimize V-sKNN for each dataset, run vsknn_optimize.py, and pass the corresponding train_tr and train_valid datasets. e.g.:\n",
    "# python vsknn_optimize.py --train_path data/data_sources/retailrocket_ecommerce/retailrocket_processed_view_train_tr.tsv --test_path data/data_sources/retailrocket_ecommerce/retailrocket_processed_view_train_valid.tsv --model vsknn --eval_method all --max_iter 100 "
   ]
  },
  {
   "cell_type": "markdown",
   "metadata": {},
   "source": []
  },
  {
   "cell_type": "code",
   "execution_count": 3,
   "metadata": {},
   "outputs": [],
   "source": [
    "metric_n = [1, 5, 10, 20]\n",
    "# After running vsknn_optimize.py, the best parameters can also be found in the corresponding best parameter files under: data/results/vsknn_paropt/*train_tr_best.json\n",
    "experiments = {\n",
    "    \"retailrocket_full\": {\n",
    "        \"train_path\": \"data/data_sources/retailrocket_ecommerce/retailrocket_processed_view_train_full.tsv\",\n",
    "        \"test_path\": \"data/data_sources/retailrocket_ecommerce/retailrocket_processed_view_test.tsv\"},\n",
    "    \"retailrocket_91D\": {\n",
    "        \"train_path\": \"data/data_sources/retailrocket_ecommerce/retailrocket_processed_view_train_full_91D.tsv\",\n",
    "        \"test_path\": \"data/data_sources/retailrocket_ecommerce/retailrocket_processed_view_test.tsv\"},\n",
    "    \"retailrocket_56D\": {\n",
    "        \"train_path\": \"data/data_sources/retailrocket_ecommerce/retailrocket_processed_view_train_full_56D.tsv\",\n",
    "        \"test_path\": \"data/data_sources/retailrocket_ecommerce/retailrocket_processed_view_test.tsv\"},\n",
    "    \"retailrocket_28D\": {\n",
    "        \"train_path\": \"data/data_sources/retailrocket_ecommerce/retailrocket_processed_view_train_full_28D.tsv\",\n",
    "        \"test_path\": \"data/data_sources/retailrocket_ecommerce/retailrocket_processed_view_test.tsv\"},\n",
    "    \"retailrocket_14D\": {\n",
    "        \"train_path\": \"data/data_sources/retailrocket_ecommerce/retailrocket_processed_view_train_full_14D.tsv\",\n",
    "        \"test_path\": \"data/data_sources/retailrocket_ecommerce/retailrocket_processed_view_test.tsv\"},\n",
    "    \"retailrocket_7D\": {\n",
    "        \"train_path\": \"data/data_sources/retailrocket_ecommerce/retailrocket_processed_view_train_full_7D.tsv\",\n",
    "        \"test_path\": \"data/data_sources/retailrocket_ecommerce/retailrocket_processed_view_test.tsv\"}\n",
    "}"
   ]
  },
  {
   "cell_type": "code",
   "execution_count": 4,
   "metadata": {},
   "outputs": [
    {
     "name": "stdout",
     "output_type": "stream",
     "text": [
      "retailrocket_full vsknn_params\n",
      "\t TRAIN, scoreing ALL\n",
      "\t EVAL, scoreing ALL\n",
      "\t HitRate@1:  0.040951\n",
      "\t HitRate@5:  0.302596\n",
      "\t HitRate@10:  0.398244\n",
      "\t HitRate@20:  0.475372\n",
      "retailrocket_91D vsknn_params\n",
      "\t TRAIN, scoreing ALL\n",
      "\t EVAL, scoreing ALL\n",
      "\t HitRate@1:  0.041313\n",
      "\t HitRate@5:  0.297011\n",
      "\t HitRate@10:  0.388033\n",
      "\t HitRate@20:  0.460103\n",
      "retailrocket_56D vsknn_params\n",
      "\t TRAIN, scoreing ALL\n",
      "\t EVAL, scoreing ALL\n",
      "\t HitRate@1:  0.042736\n",
      "\t HitRate@5:  0.291974\n",
      "\t HitRate@10:  0.376020\n",
      "\t HitRate@20:  0.446838\n",
      "retailrocket_28D vsknn_params\n",
      "\t TRAIN, scoreing ALL\n",
      "\t EVAL, scoreing ALL\n",
      "\t HitRate@1:  0.055771\n",
      "\t HitRate@5:  0.283470\n",
      "\t HitRate@10:  0.363651\n",
      "\t HitRate@20:  0.423083\n",
      "retailrocket_14D vsknn_params\n",
      "\t TRAIN, scoreing ALL\n",
      "\t EVAL, scoreing ALL\n",
      "\t HitRate@1:  0.064017\n",
      "\t HitRate@5:  0.278536\n",
      "\t HitRate@10:  0.350948\n",
      "\t HitRate@20:  0.406812\n",
      "retailrocket_7D vsknn_params\n",
      "\t TRAIN, scoreing ALL\n",
      "\t EVAL, scoreing ALL\n",
      "\t HitRate@1:  0.062972\n",
      "\t HitRate@5:  0.278947\n",
      "\t HitRate@10:  0.348447\n",
      "\t HitRate@20:  0.404454\n"
     ]
    }
   ],
   "source": [
    "setups_vsknn = {}\n",
    "for dataset_key, model_setups in setups.items():\n",
    "    tmp = {}\n",
    "    for model_key, params in model_setups.items():\n",
    "        if \"vsknn\" in model_key:\n",
    "            tmp[model_key] = params\n",
    "    setups_vsknn[dataset_key] = tmp\n",
    "train_test_vsknn_models(experiments, setups=setups_vsknn, m=metric_n)"
   ]
  }
 ],
 "metadata": {
  "kernelspec": {
   "display_name": "eval_flaws",
   "language": "python",
   "name": "python3"
  },
  "language_info": {
   "codemirror_mode": {
    "name": "ipython",
    "version": 3
   },
   "file_extension": ".py",
   "mimetype": "text/x-python",
   "name": "python",
   "nbconvert_exporter": "python",
   "pygments_lexer": "ipython3",
   "version": "3.8.12"
  },
  "orig_nbformat": 4
 },
 "nbformat": 4,
 "nbformat_minor": 2
}

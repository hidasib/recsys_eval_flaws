{
 "cells": [
  {
   "attachments": {},
   "cell_type": "markdown",
   "metadata": {},
   "source": [
    "# Inference Sampling, sampling strategies\n",
    "- The notebook visualizes the Recall metric at cutoffs [1,5,10,20] for different sampling techniques\n",
    "- This helps us to understand how different sampling techniques approximate the no sampling method"
   ]
  },
  {
   "cell_type": "code",
   "execution_count": null,
   "metadata": {},
   "outputs": [],
   "source": [
    "# Before running the example notebook make sure to execute the following commands, to create the necessary datasets:\n",
    "# ! python data/coveo_preproc.py -p data/data_sources/coveo_ecommerce\n",
    "# ! python data/retailrocket_preproc.py -p data/data_sources/retailrocket_ecommerce\n",
    "# ! python data/rees46_preproc.py -p data/data_sources/ress46_ecommerce"
   ]
  },
  {
   "cell_type": "code",
   "execution_count": null,
   "metadata": {},
   "outputs": [],
   "source": [
    "import numpy as np\n",
    "import pandas as pd\n",
    "import matplotlib as mpl\n",
    "import matplotlib.pyplot as plt\n",
    "import os\n",
    "import itertools\n",
    "from collections import defaultdict\n",
    "\n",
    "from utils.experiment_setup import gru4rec_sampling_setups as setups\n",
    "from utils.gru4rec_train_test_utils import train_test_gru4rec_models \n",
    "from utils.plot_config import *\n",
    "mpl.rc('lines', linewidth=plot_line_width)"
   ]
  },
  {
   "cell_type": "code",
   "execution_count": null,
   "metadata": {},
   "outputs": [],
   "source": [
    "experiments = {\n",
    "    \"coveo\": {\n",
    "        \"train_path\": \"data/data_sources/coveo_ecommerce/coveo_processed_view_train_full.tsv\",\n",
    "        \"test_path\": \"data/data_sources/coveo_ecommerce/coveo_processed_view_test.tsv\",\n",
    "        \"methods\": [\"full\", \"closest\", \"farthest\", \"similar\", \"dissimilar\", \"uniform\", \"popular\", \"invpopular\", \"popstatic\"],\n",
    "        \"model\": \"coveo_optuna_mrr_bprmax_constrained_fulltrain\"\n",
    "    },\n",
    "    \"retailrocket\": {\n",
    "        \"train_path\": \"data/data_sources/retailrocket_ecommerce/retailrocket_processed_view_train_full.tsv\",\n",
    "        \"test_path\": \"data/data_sources/retailrocket_ecommerce/retailrocket_processed_view_test.tsv\",\n",
    "        \"methods\": [\"full\", \"closest\", \"farthest\", \"similar\", \"dissimilar\", \"uniform\", \"popular\", \"invpopular\", \"popstatic\"],\n",
    "        \"model\": \"retailrocket_optuna_mrr_bprmax_constrained_fulltrain\" \n",
    "    },\n",
    "    # \"rees46\": {\n",
    "    #     \"train_path\": \"data/data_sources/rees46_ecommerce/rees46_processed_view_train_full.tsv\",\n",
    "    #     \"test_path\": \"data/data_sources/rees46_ecommerce/rees46_processed_view_test.tsv\",\n",
    "    #     \"methods\": [\"full\", \"closest\", \"farthest\", \"similar\", \"dissimilar\", \"uniform\", \"popular\", \"invpopular\", \"popstatic\"],\n",
    "    #     \"model\": \"rees46_optuna_mrr_xe_constrained_fulltrain\"\n",
    "    # },\n",
    "}\n",
    "n_epochs = 5"
   ]
  },
  {
   "cell_type": "code",
   "execution_count": null,
   "metadata": {},
   "outputs": [],
   "source": [
    "# Model training\n",
    "exp = {}\n",
    "for dataset_name, dataset_params in experiments.items():\n",
    "    exp[dataset_name] = {\"train_path\": dataset_params[\"train_path\"]}\n",
    "train_test_gru4rec_models(experiments=exp, setups=setups, n_epochs=n_epochs, save_model=True)"
   ]
  },
  {
   "cell_type": "code",
   "execution_count": null,
   "metadata": {},
   "outputs": [],
   "source": [
    "# Measuring recall and mrr values for different sample sizes\n",
    "for dataset_key, dataset_params in experiments.items():\n",
    "    train_path =  dataset_params[\"train_path\"]\n",
    "    test_path =  dataset_params[\"test_path\"]\n",
    "    methods = dataset_params[\"methods\"]\n",
    "    model = dataset_params[\"model\"]\n",
    "    model_path = os.path.join(\"data\", \"models\", model+\".pickle\")\n",
    "    ret_code = os.system(f\"THEANO_FLAGS=device=cuda0 python sampling/inference_sampling.py --train_path {train_path} --test_path {test_path} --model_path {model_path} --methods {' '.join(methods)}\")\n",
    "    if ret_code != 0: raise ValueError(f\"process returned with code: {ret_code}\") "
   ]
  },
  {
   "cell_type": "code",
   "execution_count": null,
   "metadata": {},
   "outputs": [],
   "source": [
    "def flip(items, ncol):\n",
    "    return itertools.chain(*[items[i::ncol] for i in range(ncol)])\n",
    "\n",
    "def format_plot(ax, make_legend):\n",
    "    if make_legend:\n",
    "        ncol = 5\n",
    "        handles, labels = ax.get_legend_handles_labels()\n",
    "        handles, labels = flip(handles, ncol), flip(labels, ncol)\n",
    "        ax.legend(handles, labels, loc=\"upper center\", prop={'size': fontsize*1.3}, bbox_to_anchor=(0.5, -0.125), ncol=5)\n",
    "    for axis in ['top','bottom','left','right']:\n",
    "        ax.spines[axis].set_linewidth(plot_axis_line_width)\n",
    "    ax.tick_params(width=plot_axis_line_width*2)\n",
    "    ax.tick_params(axis='both', which='major', labelsize=fontsize*1.2)\n",
    "    ax.tick_params(axis='x', which='major', labelsize=fontsize*1.0, rotation=0)"
   ]
  },
  {
   "cell_type": "code",
   "execution_count": null,
   "metadata": {},
   "outputs": [],
   "source": [
    "def load_dataset_stats(dataset_names, dataset_methods, metric_n, metric):\n",
    "    dataset_stats = defaultdict(dict)\n",
    "    file_path = \"./data/results/sampling_results\"\n",
    "    metric_file_names = os.listdir(file_path)\n",
    "    for dataset_name, dataset_value in dataset_names.items():\n",
    "        for method in dataset_methods.keys():\n",
    "            curr_fn = f\"{dataset_value}_{method}_{metric}\"\n",
    "            metric_file_name = next((fn for fn in metric_file_names if curr_fn in fn), None)\n",
    "            if metric_file_name is None:\n",
    "                raise ValueError(f\"No matching {metric} or {method} file for dataset: {dataset_name}\")\n",
    "            data = pd.read_csv(os.path.join(file_path, metric_file_name), sep='\\t')\n",
    "            dataset_stats[dataset_name][method] = data.values.flatten()[np.array(metric_n)-1]\n",
    "    return dataset_stats"
   ]
  },
  {
   "cell_type": "code",
   "execution_count": null,
   "metadata": {},
   "outputs": [],
   "source": [
    "def create_barplot(ax, labels, dataset_stats, colormap, x_label, make_legend):\n",
    "    x = np.arange(len(labels))\n",
    "    width = 0.1\n",
    "    multiplier = 0\n",
    "    for i, (attribute, measurement) in enumerate(dataset_stats.items()):\n",
    "        measurement = np.array(measurement)\n",
    "        offset = width * multiplier\n",
    "        ax.bar(x + offset, measurement, width, label=attribute, color=colormap[i])\n",
    "        multiplier += 1\n",
    "    ax.set_xticks(x + 4*width, labels)\n",
    "    ax.set_xlabel(x_label, fontsize=fontsize*1.4, labelpad=10)\n",
    "    format_plot(ax, make_legend=make_legend)"
   ]
  },
  {
   "cell_type": "code",
   "execution_count": null,
   "metadata": {},
   "outputs": [],
   "source": [
    "dataset_names = {\n",
    "    \"Coveo\":experiments[\"coveo\"][\"model\"],\n",
    "    \"Retailrocket\": experiments[\"retailrocket\"][\"model\"], \n",
    "    # \"rees46\": experiments[\"rees46\"][\"model\"],\n",
    "    } \n",
    "dataset_methods = {\"full\": \"All items\", \"similar\": \"Most similar\", \"closest\": \"Closest\", \"popstatic\": \"Most popular\", \"popular\": \"Popularity sampling\", \"uniform\": \"Uniform sampling\", \"invpopular\": \"Inverse popularity sampling\", \"farthest\": \"Farthest\", \"dissimilar\": \"Least similar\"}\n",
    "metric = \"recall\"\n",
    "metric_n = [1,5,10,20]\n",
    "recalls_labels = np.array([f\"Recall@{n}\" for n in metric_n])"
   ]
  },
  {
   "cell_type": "code",
   "execution_count": null,
   "metadata": {},
   "outputs": [],
   "source": [
    "cmap = np.array(mpl.colormaps['tab20c'](np.arange(8)))\n",
    "oranges = cmap[4:8][::-1]\n",
    "blues = np.repeat(np.array([[24, 82, 124]]), 4, axis=0)\n",
    "blue_alphas = np.array([1.0,0.75,0.5,0.25]).reshape(-1,1)\n",
    "blues = np.hstack([blues/255, blue_alphas])\n",
    "cmap = np.vstack([blues, oranges])\n",
    "cmap = np.vstack([np.array([0,0,0,1]), cmap])"
   ]
  },
  {
   "cell_type": "code",
   "execution_count": null,
   "metadata": {},
   "outputs": [],
   "source": [
    "dataset_stats = load_dataset_stats(dataset_names, dataset_methods, metric=metric, metric_n=metric_n)"
   ]
  },
  {
   "cell_type": "code",
   "execution_count": null,
   "metadata": {},
   "outputs": [],
   "source": [
    "fig, axs = plt.subplots(ncols=3, nrows=1, figsize=(45,12))\n",
    "for i, ds_name in enumerate(dataset_names.keys()):\n",
    "    ax = axs[i] \n",
    "    create_barplot(ax, labels=recalls_labels, dataset_stats=dataset_stats[ds_name], colormap=cmap, x_label=ds_name, make_legend=True if i == 1 else False)"
   ]
  },
  {
   "cell_type": "code",
   "execution_count": null,
   "metadata": {},
   "outputs": [],
   "source": []
  }
 ],
 "metadata": {
  "kernelspec": {
   "display_name": "Python 3",
   "language": "python",
   "name": "python3"
  },
  "language_info": {
   "codemirror_mode": {
    "name": "ipython",
    "version": 3
   },
   "file_extension": ".py",
   "mimetype": "text/x-python",
   "name": "python",
   "nbconvert_exporter": "python",
   "pygments_lexer": "ipython3",
   "version": "3.8.12"
  },
  "orig_nbformat": 4
 },
 "nbformat": 4,
 "nbformat_minor": 2
}

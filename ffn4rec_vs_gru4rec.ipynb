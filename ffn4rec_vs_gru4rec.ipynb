{
 "cells": [
  {
   "cell_type": "code",
   "execution_count": 1,
   "metadata": {},
   "outputs": [],
   "source": [
    "import os\n",
    "from utils.gru4rec_train_test_utils import train_test_gru4rec_models \n",
    "from utils.experiment_setup import gru4rec_ffn4rec_setups as setups"
   ]
  },
  {
   "cell_type": "code",
   "execution_count": null,
   "metadata": {},
   "outputs": [],
   "source": [
    "# Before running the example notebook make sure to execute the following command, to create the necessary datasets:\n",
    "# ! python data/coveo_preproc.py -p data/data_sources/coveo_ecommerce"
   ]
  },
  {
   "cell_type": "code",
   "execution_count": 2,
   "metadata": {},
   "outputs": [],
   "source": [
    "experiments = {\n",
    "    \"coveo\": {\n",
    "        \"train_path\": \"data/data_sources/coveo_ecommerce/coveo_processed_view_train_full.tsv\",\n",
    "        \"test_path\": \"data/data_sources/coveo_ecommerce/coveo_processed_view_test.tsv\"\n",
    "    },\n",
    "}\n",
    "n_epochs = 5\n",
    "metric_n = [1, 5, 10, 20]"
   ]
  },
  {
   "attachments": {},
   "cell_type": "markdown",
   "metadata": {},
   "source": [
    "# Training and testing the original gru4rec\n",
    "- gru4rec with GRU layer"
   ]
  },
  {
   "cell_type": "code",
   "execution_count": 3,
   "metadata": {},
   "outputs": [
    {
     "name": "stdout",
     "output_type": "stream",
     "text": [
      "executing script:\n",
      "THEANO_FLAGS=device=cuda0 python ./GRU4Rec/run.py data/data_sources/coveo_ecommerce/coveo_processed_view_train_full.tsv -t data/data_sources/coveo_ecommerce/coveo_processed_view_test.tsv -g gru4rec -ps layers=512,loss=bpr-max,bpreg=1.85,logq=0.0,final_act=elu-1,hidden_act=tanh,n_epochs=5,batch_size=144,dropout_p_embed=0.35,dropout_p_hidden=0.0,learning_rate=0.05,momentum=0.4,sample_alpha=0.2,n_sample=2048,constrained_embedding=True,embedding=0,adapt=adagrad,item_key=ItemId,session_key=SessionId,time_key=Time -m 1 5 10 20\n"
     ]
    },
    {
     "name": "stderr",
     "output_type": "stream",
     "text": [
      "WARNING (theano.tensor.blas): Using NumPy C-API based implementation for BLAS functions.\n",
      "WARNING (theano.gof.compilelock): Overriding existing lock by dead process '2676807' (I am process '2678744')\n",
      "Using cuDNN version 7104 on context None\n",
      "Mapped name None to device cuda0: NVIDIA GeForce GTX TITAN X (0000:02:00.0)\n"
     ]
    },
    {
     "name": "stdout",
     "output_type": "stream",
     "text": [
      "SET   layers                  TO   [512]       (type: <class 'list'>)\n",
      "SET   loss                    TO   bpr-max     (type: <class 'str'>)\n",
      "SET   bpreg                   TO   1.85        (type: <class 'float'>)\n",
      "SET   logq                    TO   0.0         (type: <class 'float'>)\n",
      "SET   final_act               TO   elu-1       (type: <class 'str'>)\n",
      "SET   hidden_act              TO   tanh        (type: <class 'str'>)\n",
      "SET   n_epochs                TO   5           (type: <class 'int'>)\n",
      "SET   batch_size              TO   144         (type: <class 'int'>)\n",
      "SET   dropout_p_embed         TO   0.35        (type: <class 'float'>)\n",
      "SET   dropout_p_hidden        TO   0.0         (type: <class 'float'>)\n",
      "SET   learning_rate           TO   0.05        (type: <class 'float'>)\n",
      "SET   momentum                TO   0.4         (type: <class 'float'>)\n",
      "SET   sample_alpha            TO   0.2         (type: <class 'float'>)\n",
      "SET   n_sample                TO   2048        (type: <class 'int'>)\n",
      "SET   constrained_embedding   TO   True        (type: <class 'bool'>)\n",
      "SET   embedding               TO   0           (type: <class 'int'>)\n",
      "SET   adapt                   TO   adagrad     (type: <class 'str'>)\n",
      "SET   item_key                TO   ItemId      (type: <class 'str'>)\n",
      "SET   session_key             TO   SessionId   (type: <class 'str'>)\n",
      "SET   time_key                TO   Time        (type: <class 'str'>)\n",
      "Loading training data...\n",
      "Loading data from TAB separated file: data/data_sources/coveo_ecommerce/coveo_processed_view_train_full.tsv\n",
      "Started training\n",
      "The dataframe is already sorted by SessionId, Time\n",
      "Created sample store with 4882 batches of samples (type=GPU)\n",
      "Epoch1 --> loss: 0.552567 \t(25.64s) \t[339.92 mb/s | 48572 e/s]\n",
      "Epoch2 --> loss: 0.514505 \t(25.88s) \t[336.79 mb/s | 48124 e/s]\n",
      "Epoch3 --> loss: 0.502185 \t(26.88s) \t[324.26 mb/s | 46334 e/s]\n",
      "Epoch4 --> loss: 0.494471 \t(27.08s) \t[321.88 mb/s | 45994 e/s]\n",
      "Epoch5 --> loss: 0.489008 \t(26.91s) \t[323.89 mb/s | 46280 e/s]\n",
      "Total training time: 152.41s\n",
      "Loading test data...\n",
      "Loading data from TAB separated file: data/data_sources/coveo_ecommerce/coveo_processed_view_test.tsv\n",
      "Starting evaluation (cut-off=1, using standard mode for tiebreaking)\n",
      "Measuring Recall@1 and MRR@1\n",
      "Evaluation took 5.75s\n",
      "Recall@1: 0.050321 MRR@1: 0.050321\n",
      "Starting evaluation (cut-off=5, using standard mode for tiebreaking)\n",
      "Measuring Recall@5 and MRR@5\n",
      "Evaluation took 1.64s\n",
      "Recall@5: 0.146404 MRR@5: 0.083568\n",
      "Starting evaluation (cut-off=10, using standard mode for tiebreaking)\n",
      "Measuring Recall@10 and MRR@10\n",
      "Evaluation took 1.50s\n",
      "Recall@10: 0.218019 MRR@10: 0.093020\n",
      "Starting evaluation (cut-off=20, using standard mode for tiebreaking)\n",
      "Measuring Recall@20 and MRR@20\n",
      "Evaluation took 1.48s\n",
      "Recall@20: 0.313052 MRR@20: 0.099559\n"
     ]
    }
   ],
   "source": [
    "setups_gru4rec = {}\n",
    "for dataset_key, model_setups in setups.items():\n",
    "    tmp = {}\n",
    "    for model_key, params in model_setups.items():\n",
    "        if \"gru4rec\" in model_key:\n",
    "            tmp[model_key] = params\n",
    "    setups_gru4rec[dataset_key] = tmp\n",
    "train_test_gru4rec_models(experiments=experiments, setups=setups_gru4rec, n_epochs=n_epochs, m=metric_n)"
   ]
  },
  {
   "attachments": {},
   "cell_type": "markdown",
   "metadata": {},
   "source": [
    "# Training and testing ffn4rec\n",
    "- gru4rec without GRU layer. They GRU layers are replaced with feedforward layers"
   ]
  },
  {
   "cell_type": "code",
   "execution_count": 4,
   "metadata": {},
   "outputs": [
    {
     "name": "stdout",
     "output_type": "stream",
     "text": [
      "executing script:\n",
      "THEANO_FLAGS=device=cuda0 PYTHONPATH=ffn4rec python ./GRU4Rec/run.py data/data_sources/coveo_ecommerce/coveo_processed_view_train_full.tsv -t data/data_sources/coveo_ecommerce/coveo_processed_view_test.tsv -g ffn4rec -ps layers=512,loss=bpr-max,bpreg=1.7,logq=0.0,final_act=elu-0.5,hidden_act=tanh,n_epochs=5,batch_size=112,dropout_p_embed=0.15,dropout_p_hidden=0.45,learning_rate=0.06,momentum=0.1,sample_alpha=0.0,n_sample=2048,constrained_embedding=True,embedding=0,adapt=adagrad,item_key=ItemId,session_key=SessionId,time_key=Time -m 1 5 10 20\n"
     ]
    },
    {
     "name": "stderr",
     "output_type": "stream",
     "text": [
      "WARNING (theano.tensor.blas): Using NumPy C-API based implementation for BLAS functions.\n",
      "Using cuDNN version 7104 on context None\n",
      "Mapped name None to device cuda0: NVIDIA GeForce GTX TITAN X (0000:02:00.0)\n"
     ]
    },
    {
     "name": "stdout",
     "output_type": "stream",
     "text": [
      "SET   layers                  TO   [512]       (type: <class 'list'>)\n",
      "SET   loss                    TO   bpr-max     (type: <class 'str'>)\n",
      "SET   bpreg                   TO   1.7         (type: <class 'float'>)\n",
      "SET   logq                    TO   0.0         (type: <class 'float'>)\n",
      "SET   final_act               TO   elu-0.5     (type: <class 'str'>)\n",
      "SET   hidden_act              TO   tanh        (type: <class 'str'>)\n",
      "SET   n_epochs                TO   5           (type: <class 'int'>)\n",
      "SET   batch_size              TO   112         (type: <class 'int'>)\n",
      "SET   dropout_p_embed         TO   0.15        (type: <class 'float'>)\n",
      "SET   dropout_p_hidden        TO   0.45        (type: <class 'float'>)\n",
      "SET   learning_rate           TO   0.06        (type: <class 'float'>)\n",
      "SET   momentum                TO   0.1         (type: <class 'float'>)\n",
      "SET   sample_alpha            TO   0.0         (type: <class 'float'>)\n",
      "SET   n_sample                TO   2048        (type: <class 'int'>)\n",
      "SET   constrained_embedding   TO   True        (type: <class 'bool'>)\n",
      "SET   embedding               TO   0           (type: <class 'int'>)\n",
      "SET   adapt                   TO   adagrad     (type: <class 'str'>)\n",
      "SET   item_key                TO   ItemId      (type: <class 'str'>)\n",
      "SET   session_key             TO   SessionId   (type: <class 'str'>)\n",
      "SET   time_key                TO   Time        (type: <class 'str'>)\n",
      "Loading training data...\n",
      "Loading data from TAB separated file: data/data_sources/coveo_ecommerce/coveo_processed_view_train_full.tsv\n",
      "Started training\n",
      "The dataframe is already sorted by SessionId, Time\n",
      "Created sample store with 4882 batches of samples (type=GPU)\n",
      "Epoch1 --> loss: 0.560195 \t(139.54s) \t[80.08 mb/s | 8926 e/s]\n",
      "Epoch2 --> loss: 0.520060 \t(138.83s) \t[80.49 mb/s | 8971 e/s]\n",
      "Epoch3 --> loss: 0.508549 \t(138.78s) \t[80.52 mb/s | 8974 e/s]\n",
      "Epoch4 --> loss: 0.501435 \t(138.74s) \t[80.54 mb/s | 8977 e/s]\n",
      "Epoch5 --> loss: 0.496466 \t(138.71s) \t[80.56 mb/s | 8979 e/s]\n",
      "Total training time: 713.25s\n",
      "Loading test data...\n",
      "Loading data from TAB separated file: data/data_sources/coveo_ecommerce/coveo_processed_view_test.tsv\n",
      "Starting evaluation (cut-off=1, using standard mode for tiebreaking)\n",
      "Measuring Recall@1 and MRR@1\n",
      "Evaluation took 9.43s\n",
      "Recall@1: 0.041651 MRR@1: 0.041651\n",
      "Starting evaluation (cut-off=5, using standard mode for tiebreaking)\n",
      "Measuring Recall@5 and MRR@5\n",
      "Evaluation took 5.12s\n",
      "Recall@5: 0.125936 MRR@5: 0.070550\n",
      "Starting evaluation (cut-off=10, using standard mode for tiebreaking)\n",
      "Measuring Recall@10 and MRR@10\n",
      "Evaluation took 5.11s\n",
      "Recall@10: 0.185418 MRR@10: 0.078393\n",
      "Starting evaluation (cut-off=20, using standard mode for tiebreaking)\n",
      "Measuring Recall@20 and MRR@20\n",
      "Evaluation took 5.18s\n",
      "Recall@20: 0.268228 MRR@20: 0.084095\n"
     ]
    }
   ],
   "source": [
    "setups_ffn4rec = {}\n",
    "for dataset_key, model_setups in setups.items():\n",
    "    tmp = {}\n",
    "    for model_key, params in model_setups.items():\n",
    "        if \"ffn4rec\" in model_key:\n",
    "            tmp[model_key] = params\n",
    "    setups_ffn4rec[dataset_key] = tmp\n",
    "train_test_gru4rec_models(experiments=experiments, setups=setups_ffn4rec, model_variant=\"ffn4rec\", n_epochs=n_epochs, m=metric_n)"
   ]
  }
 ],
 "metadata": {
  "kernelspec": {
   "display_name": "eval_flaws",
   "language": "python",
   "name": "python3"
  },
  "language_info": {
   "codemirror_mode": {
    "name": "ipython",
    "version": 3
   },
   "file_extension": ".py",
   "mimetype": "text/x-python",
   "name": "python",
   "nbconvert_exporter": "python",
   "pygments_lexer": "ipython3",
   "version": "3.8.12"
  },
  "orig_nbformat": 4
 },
 "nbformat": 4,
 "nbformat_minor": 2
}

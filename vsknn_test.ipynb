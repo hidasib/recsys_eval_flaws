{
 "cells": [
  {
   "cell_type": "code",
   "execution_count": 1,
   "metadata": {},
   "outputs": [],
   "source": [
    "import pandas as pd\n",
    "import numpy as np\n",
    "from session_rec.algorithms.knn import vsknn\n",
    "from session_rec.evaluation import evaluation_last, evaluation\n",
    "from session_rec.evaluation.metrics.accuracy import HitRate"
   ]
  },
  {
   "cell_type": "code",
   "execution_count": 2,
   "metadata": {},
   "outputs": [],
   "source": [
    "metrics = [HitRate(1), HitRate(5), HitRate(10), HitRate(20)]\n",
    "# After running vsknn_optimize.py, the best parameters can be found in the corresponding best parameter files under: data/results/vskk_paropt/*train_tr_best.json\n",
    "experiments_vsknn = {\n",
    "    \"full\": {\n",
    "        \"train_file\": \"data/data_sources/retailrocket_ecommerce/retailrocket_processed_view_train_full.tsv\",\n",
    "        \"test_file\": \"data/data_sources/retailrocket_ecommerce/retailrocket_processed_view_test.tsv\",\n",
    "        \"best_params\": {\"k\": 500, \"sample_size\": 1000, \"weighting\": \"log\", \"weighting_score\": \"same\", \"idf_weighting\": 2}},\n",
    "    \"91D\": {\n",
    "        \"train_file\": \"data/data_sources/retailrocket_ecommerce/retailrocket_processed_view_train_full_91D.tsv\",\n",
    "        \"test_file\": \"data/data_sources/retailrocket_ecommerce/retailrocket_processed_view_test.tsv\",\n",
    "        \"best_params\": {\"k\": 1000, \"sample_size\": 1000, \"weighting\": \"log\", \"weighting_score\": \"same\", \"idf_weighting\": 10}},\n",
    "    \"56D\": {\n",
    "        \"train_file\": \"data/data_sources/retailrocket_ecommerce/retailrocket_processed_view_train_full_56D.tsv\",\n",
    "        \"test_file\": \"data/data_sources/retailrocket_ecommerce/retailrocket_processed_view_test.tsv\",\n",
    "        \"best_params\": {\"k\": 500, \"sample_size\": 500, \"weighting\": \"log\", \"weighting_score\": \"same\", \"idf_weighting\": 5}},\n",
    "    \"28D\": {\n",
    "        \"train_file\": \"data/data_sources/retailrocket_ecommerce/retailrocket_processed_view_train_full_28D.tsv\",\n",
    "        \"test_file\": \"data/data_sources/retailrocket_ecommerce/retailrocket_processed_view_test.tsv\",\n",
    "        \"best_params\": {\"k\": 1000, \"sample_size\": 500, \"weighting\": \"same\", \"weighting_score\": \"log\", \"idf_weighting\": 5}},\n",
    "    \"14D\": {\n",
    "        \"train_file\": \"data/data_sources/retailrocket_ecommerce/retailrocket_processed_view_train_full_14D.tsv\",\n",
    "        \"test_file\": \"data/data_sources/retailrocket_ecommerce/retailrocket_processed_view_test.tsv\",\n",
    "        \"best_params\": {\"k\": 500, \"sample_size\": 500, \"weighting\": \"same\", \"weighting_score\": \"log\", \"idf_weighting\": 1}},\n",
    "    \"7D\": {\n",
    "        \"train_file\": \"data/data_sources/retailrocket_ecommerce/retailrocket_processed_view_train_full_7D.tsv\",\n",
    "        \"test_file\": \"data/data_sources/retailrocket_ecommerce/retailrocket_processed_view_test.tsv\",\n",
    "        \"best_params\": {\"k\": 1500, \"sample_size\": 2500, \"weighting\": \"log\", \"weighting_score\": \"same\", \"idf_weighting\": 10}}\n",
    "}"
   ]
  },
  {
   "cell_type": "code",
   "execution_count": 3,
   "metadata": {},
   "outputs": [
    {
     "name": "stdout",
     "output_type": "stream",
     "text": [
      "full\n",
      "\t (750832, 3) (29148, 3)\n",
      "\t (750832, 3) (28965, 3) 196234 8013\n",
      "\t START eval, scoreing ALL\n",
      "\t HitRate@1:  0.04095074455899198\n",
      "\t HitRate@5:  0.30259641084383354\n",
      "\t HitRate@10:  0.39824360442917145\n",
      "\t HitRate@20:  0.4753722794959908\n",
      "91D\n",
      "\t (502044, 3) (29148, 3)\n",
      "\t (502044, 3) (28815, 3) 132431 7974\n",
      "\t START eval, scoreing ALL\n",
      "\t HitRate@1:  0.041312796890744206\n",
      "\t HitRate@5:  0.29701070006237706\n",
      "\t HitRate@10:  0.3880332037810086\n",
      "\t HitRate@20:  0.46010268221294565\n",
      "56D\n",
      "\t (287593, 3) (29148, 3)\n",
      "\t (287593, 3) (28133, 3) 78370 7799\n",
      "\t START eval, scoreing ALL\n",
      "\t HitRate@1:  0.04273630372774663\n",
      "\t HitRate@5:  0.29197403363824137\n",
      "\t HitRate@10:  0.37602045834562803\n",
      "\t HitRate@20:  0.44683780859643946\n",
      "28D\n",
      "\t (128942, 3) (29148, 3)\n",
      "\t (128942, 3) (26087, 3) 35669 7242\n",
      "\t START eval, scoreing ALL\n",
      "\t HitRate@1:  0.05577076147519236\n",
      "\t HitRate@5:  0.28347041655611566\n",
      "\t HitRate@10:  0.36365083576545504\n",
      "\t HitRate@20:  0.42308304590076945\n",
      "14D\n",
      "\t (65132, 3) (29148, 3)\n",
      "\t (65132, 3) (23029, 3) 18105 6471\n",
      "\t START eval, scoreing ALL\n",
      "\t HitRate@1:  0.06401739340500061\n",
      "\t HitRate@5:  0.27853605507911583\n",
      "\t HitRate@10:  0.35094818214760237\n",
      "\t HitRate@20:  0.4068124169585699\n",
      "7D\n",
      "\t (33843, 3) (29148, 3)\n",
      "\t (33843, 3) (19292, 3) 9421 5508\n",
      "\t START eval, scoreing ALL\n",
      "\t HitRate@1:  0.06297156123041207\n",
      "\t HitRate@5:  0.278946604759141\n",
      "\t HitRate@10:  0.3484474753337203\n",
      "\t HitRate@20:  0.404454439930354\n"
     ]
    }
   ],
   "source": [
    "for exp_name, setup in experiments_vsknn.items():\n",
    "    print(exp_name)\n",
    "    train_data = pd.read_csv(setup[\"train_file\"], sep='\\t')\n",
    "    train_data = train_data.sort_values(by=[\"SessionId\", \"Time\", \"ItemId\"], ascending=True)\n",
    "    test_data = pd.read_csv(setup[\"test_file\"], sep='\\t')\n",
    "    test_data = test_data.sort_values(by=[\"SessionId\", \"Time\", \"ItemId\"], ascending=True)\n",
    "\n",
    "    print(\"\\t\", train_data.shape, test_data.shape)\n",
    "    train_unique_items = train_data[\"ItemId\"].unique()\n",
    "    test_data = test_data[test_data[\"ItemId\"].isin(train_unique_items)]\n",
    "    session_length_test = test_data.groupby(\"SessionId\").size()\n",
    "    test_data = test_data[test_data[\"SessionId\"].isin(session_length_test[session_length_test > 1].index)]\n",
    "\n",
    "    print(\"\\t\", train_data.shape, test_data.shape, train_data.SessionId.nunique(), test_data.SessionId.nunique())\n",
    "\n",
    "    model = vsknn.VMContextKNN(**setup[\"best_params\"])\n",
    "    model.fit(train_data)\n",
    "    print(\"\\t\", \"START eval, scoreing ALL\")\n",
    "    res = evaluation.evaluate_sessions(pr=model, metrics=metrics, test_data=test_data, train_data=train_data)\n",
    "    for r in res:\n",
    "        print(\"\\t\", r[0], r[1])"
   ]
  },
  {
   "cell_type": "code",
   "execution_count": null,
   "metadata": {},
   "outputs": [],
   "source": []
  }
 ],
 "metadata": {
  "kernelspec": {
   "display_name": "eval_flaws",
   "language": "python",
   "name": "python3"
  },
  "language_info": {
   "codemirror_mode": {
    "name": "ipython",
    "version": 3
   },
   "file_extension": ".py",
   "mimetype": "text/x-python",
   "name": "python",
   "nbconvert_exporter": "python",
   "pygments_lexer": "ipython3",
   "version": "3.8.12"
  },
  "orig_nbformat": 4
 },
 "nbformat": 4,
 "nbformat_minor": 2
}

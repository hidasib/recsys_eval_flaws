{
 "cells": [
  {
   "cell_type": "code",
   "execution_count": 1,
   "metadata": {},
   "outputs": [
    {
     "name": "stderr",
     "output_type": "stream",
     "text": [
      "/db_vol/aczapp/sandbox/recsys_eval_flaws/session_rec/evaluation/evaluation_last.py:74: SyntaxWarning: \"is\" with a literal. Did you mean \"==\"?\n",
      "  last = next_session is -1 or next_session != sid\n"
     ]
    }
   ],
   "source": [
    "import pandas as pd\n",
    "import numpy as np\n",
    "from session_rec.algorithms.knn import vsknn\n",
    "from session_rec.evaluation import evaluation_last, evaluation\n",
    "from session_rec.evaluation.metrics.accuracy import HitRate"
   ]
  },
  {
   "cell_type": "code",
   "execution_count": null,
   "metadata": {},
   "outputs": [],
   "source": [
    "metrics = [HitRate(1), HitRate(5), HitRate(10), HitRate(20)]\n",
    "# best params can be found in \"data/results/vskk_paropt/\" after running vskkn_optimize.py\n",
    "experiments_vsknn = {\n",
    "    \"full\": {\n",
    "        \"train_file\": \"/db_vol/hb_work/rnn/data/public_raw_data/retailrocket_ecommerce/retailrocket_processed_view_7a_train_full.tsv\",\n",
    "        \"test_file\": \"/db_vol/hb_work/rnn/data/public_raw_data/retailrocket_ecommerce/retailrocket_processed_view_7a_test.tsv\",\n",
    "        \"best_params\": {\"k\": 500, \"sample_size\": 1000, \"weighting\": \"log\", \"weighting_score\": \"same\", \"idf_weighting\": 2}},\n",
    "    \"91D\": {\n",
    "        \"train_file\": \"/db_vol/hb_work/rnn/data/public_raw_data/retailrocket_ecommerce/retailrocket_processed_view_7a_train_full_91D.tsv\",\n",
    "        \"test_file\": \"/db_vol/hb_work/rnn/data/public_raw_data/retailrocket_ecommerce/retailrocket_processed_view_7a_test.tsv\",\n",
    "        \"best_params\": {\"k\": 1000, \"sample_size\": 1000, \"weighting\": \"log\", \"weighting_score\": \"same\", \"idf_weighting\": 10}},\n",
    "    \"56D\": {\n",
    "        \"train_file\": \"/db_vol/hb_work/rnn/data/public_raw_data/retailrocket_ecommerce/retailrocket_processed_view_7a_train_full_56D.tsv\",\n",
    "        \"test_file\": \"/db_vol/hb_work/rnn/data/public_raw_data/retailrocket_ecommerce/retailrocket_processed_view_7a_test.tsv\",\n",
    "        \"best_params\": {\"k\": 500, \"sample_size\": 500, \"weighting\": \"log\", \"weighting_score\": \"same\", \"idf_weighting\": 5}},\n",
    "    \"28D\": {\n",
    "        \"train_file\": \"/db_vol/hb_work/rnn/data/public_raw_data/retailrocket_ecommerce/retailrocket_processed_view_7a_train_full_28D.tsv\",\n",
    "        \"test_file\": \"/db_vol/hb_work/rnn/data/public_raw_data/retailrocket_ecommerce/retailrocket_processed_view_7a_test.tsv\",\n",
    "        \"best_params\": {\"k\": 1000, \"sample_size\": 500, \"weighting\": \"same\", \"weighting_score\": \"log\", \"idf_weighting\": 5}},\n",
    "    \"14D\": {\n",
    "        \"train_file\": \"/db_vol/hb_work/rnn/data/public_raw_data/retailrocket_ecommerce/retailrocket_processed_view_7a_train_full_14D.tsv\",\n",
    "        \"test_file\": \"/db_vol/hb_work/rnn/data/public_raw_data/retailrocket_ecommerce/retailrocket_processed_view_7a_test.tsv\",\n",
    "        \"best_params\": {\"k\": 500, \"sample_size\": 500, \"weighting\": \"same\", \"weighting_score\": \"log\", \"idf_weighting\": 1}},\n",
    "    \"7D\": {\n",
    "        \"train_file\": \"/db_vol/hb_work/rnn/data/public_raw_data/retailrocket_ecommerce/retailrocket_processed_view_7a_train_full_7D.tsv\",\n",
    "        \"test_file\": \"/db_vol/hb_work/rnn/data/public_raw_data/retailrocket_ecommerce/retailrocket_processed_view_7a_test.tsv\",\n",
    "        \"best_params\": {\"k\": 1500, \"sample_size\": 2500, \"weighting\": \"log\", \"weighting_score\": \"same\", \"idf_weighting\": 10}}\n",
    "}"
   ]
  }
 ],
 "metadata": {
  "kernelspec": {
   "display_name": "eval_flaws",
   "language": "python",
   "name": "python3"
  },
  "language_info": {
   "codemirror_mode": {
    "name": "ipython",
    "version": 3
   },
   "file_extension": ".py",
   "mimetype": "text/x-python",
   "name": "python",
   "nbconvert_exporter": "python",
   "pygments_lexer": "ipython3",
   "version": "3.8.12"
  },
  "orig_nbformat": 4
 },
 "nbformat": 4,
 "nbformat_minor": 2
}

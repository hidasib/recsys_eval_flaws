{
 "cells": [
  {
   "cell_type": "code",
   "execution_count": 1,
   "metadata": {},
   "outputs": [],
   "source": [
    "import pandas as pd\n",
    "import numpy as np\n",
    "from session_rec.algorithms.knn import vsknn\n",
    "from session_rec.evaluation import evaluation_last, evaluation\n",
    "from session_rec.evaluation.metrics.accuracy import HitRate\n",
    "from utils.experiment_setup import gru4rec_vsknn_setups as setups\n",
    "import os"
   ]
  },
  {
   "cell_type": "markdown",
   "metadata": {},
   "source": []
  },
  {
   "cell_type": "code",
   "execution_count": 2,
   "metadata": {},
   "outputs": [],
   "source": [
    "metrics = [HitRate(1), HitRate(5), HitRate(10), HitRate(20)]\n",
    "# After running vsknn_optimize.py, the best parameters can also be found in the corresponding best parameter files under: data/results/vsknn_paropt/*train_tr_best.json\n",
    "experiments = {\n",
    "    \"full\": {\n",
    "        \"train_file\": \"data/data_sources/retailrocket_ecommerce/retailrocket_processed_view_train_full.tsv\",\n",
    "        \"test_file\": \"data/data_sources/retailrocket_ecommerce/retailrocket_processed_view_test.tsv\"},\n",
    "    \"91D\": {\n",
    "        \"train_file\": \"data/data_sources/retailrocket_ecommerce/retailrocket_processed_view_train_full_91D.tsv\",\n",
    "        \"test_file\": \"data/data_sources/retailrocket_ecommerce/retailrocket_processed_view_test.tsv\"},\n",
    "    \"56D\": {\n",
    "        \"train_file\": \"data/data_sources/retailrocket_ecommerce/retailrocket_processed_view_train_full_56D.tsv\",\n",
    "        \"test_file\": \"data/data_sources/retailrocket_ecommerce/retailrocket_processed_view_test.tsv\"},\n",
    "    \"28D\": {\n",
    "        \"train_file\": \"data/data_sources/retailrocket_ecommerce/retailrocket_processed_view_train_full_28D.tsv\",\n",
    "        \"test_file\": \"data/data_sources/retailrocket_ecommerce/retailrocket_processed_view_test.tsv\"},\n",
    "    \"14D\": {\n",
    "        \"train_file\": \"data/data_sources/retailrocket_ecommerce/retailrocket_processed_view_train_full_14D.tsv\",\n",
    "        \"test_file\": \"data/data_sources/retailrocket_ecommerce/retailrocket_processed_view_test.tsv\"},\n",
    "    \"7D\": {\n",
    "        \"train_file\": \"data/data_sources/retailrocket_ecommerce/retailrocket_processed_view_train_full_7D.tsv\",\n",
    "        \"test_file\": \"data/data_sources/retailrocket_ecommerce/retailrocket_processed_view_test.tsv\"}\n",
    "}"
   ]
  },
  {
   "cell_type": "code",
   "execution_count": 3,
   "metadata": {},
   "outputs": [
    {
     "name": "stdout",
     "output_type": "stream",
     "text": [
      "full\n",
      "\t (750832, 3) (29148, 3)\n",
      "\t (750832, 3) (28965, 3) 196234 8013\n",
      "\t START eval, scoreing ALL\n",
      "\t HitRate@1:  0.040951\n",
      "\t HitRate@5:  0.302596\n",
      "\t HitRate@10:  0.398244\n",
      "\t HitRate@20:  0.475372\n",
      "91D\n",
      "\t (502044, 3) (29148, 3)\n",
      "\t (502044, 3) (28815, 3) 132431 7974\n",
      "\t START eval, scoreing ALL\n",
      "\t HitRate@1:  0.041313\n",
      "\t HitRate@5:  0.297011\n",
      "\t HitRate@10:  0.388033\n",
      "\t HitRate@20:  0.460103\n",
      "56D\n",
      "\t (287593, 3) (29148, 3)\n",
      "\t (287593, 3) (28133, 3) 78370 7799\n",
      "\t START eval, scoreing ALL\n",
      "\t HitRate@1:  0.042736\n",
      "\t HitRate@5:  0.291974\n",
      "\t HitRate@10:  0.376020\n",
      "\t HitRate@20:  0.446838\n",
      "28D\n",
      "\t (128942, 3) (29148, 3)\n",
      "\t (128942, 3) (26087, 3) 35669 7242\n",
      "\t START eval, scoreing ALL\n",
      "\t HitRate@1:  0.055771\n",
      "\t HitRate@5:  0.283470\n",
      "\t HitRate@10:  0.363651\n",
      "\t HitRate@20:  0.423083\n",
      "14D\n",
      "\t (65132, 3) (29148, 3)\n",
      "\t (65132, 3) (23029, 3) 18105 6471\n",
      "\t START eval, scoreing ALL\n",
      "\t HitRate@1:  0.064017\n",
      "\t HitRate@5:  0.278536\n",
      "\t HitRate@10:  0.350948\n",
      "\t HitRate@20:  0.406812\n",
      "7D\n",
      "\t (33843, 3) (29148, 3)\n",
      "\t (33843, 3) (19292, 3) 9421 5508\n",
      "\t START eval, scoreing ALL\n",
      "\t HitRate@1:  0.062972\n",
      "\t HitRate@5:  0.278947\n",
      "\t HitRate@10:  0.348447\n",
      "\t HitRate@20:  0.404454\n"
     ]
    }
   ],
   "source": [
    "for exp_name, exp_setup in experiments.items():\n",
    "    print(exp_name)\n",
    "    train_data = pd.read_csv(exp_setup[\"train_file\"], sep='\\t')\n",
    "    train_data = train_data.sort_values(by=[\"SessionId\", \"Time\", \"ItemId\"], ascending=True)\n",
    "    test_data = pd.read_csv(exp_setup[\"test_file\"], sep='\\t')\n",
    "    test_data = test_data.sort_values(by=[\"SessionId\", \"Time\", \"ItemId\"], ascending=True)\n",
    "\n",
    "    print(\"\\t\", train_data.shape, test_data.shape)\n",
    "    train_unique_items = train_data[\"ItemId\"].unique()\n",
    "    test_data = test_data[test_data[\"ItemId\"].isin(train_unique_items)]\n",
    "    session_length_test = test_data.groupby(\"SessionId\").size()\n",
    "    test_data = test_data[test_data[\"SessionId\"].isin(session_length_test[session_length_test > 1].index)]\n",
    "\n",
    "    print(\"\\t\", train_data.shape, test_data.shape, train_data.SessionId.nunique(), test_data.SessionId.nunique())\n",
    "    fn = os.path.split(exp_setup[\"train_file\"])[-1][:-4]\n",
    "    best_params_key = f\"{fn.split('_')[0]}_{fn.split('_')[-1]}\"\n",
    "    best_params = setups[best_params_key][\"vsknn_params\"]\n",
    "    model = vsknn.VMContextKNN(**best_params)\n",
    "    model.fit(train_data)\n",
    "    print(\"\\t\", \"START eval, scoreing ALL\")\n",
    "    res = evaluation.evaluate_sessions(pr=model, metrics=metrics, test_data=test_data, train_data=train_data)\n",
    "    for r in res:\n",
    "        print(\"\\t\", r[0], f\"{r[1]:.6f}\")"
   ]
  }
 ],
 "metadata": {
  "kernelspec": {
   "display_name": "eval_flaws",
   "language": "python",
   "name": "python3"
  },
  "language_info": {
   "codemirror_mode": {
    "name": "ipython",
    "version": 3
   },
   "file_extension": ".py",
   "mimetype": "text/x-python",
   "name": "python",
   "nbconvert_exporter": "python",
   "pygments_lexer": "ipython3",
   "version": "3.8.12"
  },
  "orig_nbformat": 4
 },
 "nbformat": 4,
 "nbformat_minor": 2
}

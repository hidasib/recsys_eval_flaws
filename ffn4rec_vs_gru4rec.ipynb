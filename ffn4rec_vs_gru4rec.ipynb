{
 "cells": [
  {
   "cell_type": "code",
   "execution_count": 1,
   "metadata": {},
   "outputs": [],
   "source": [
    "import os\n",
    "from utils.experiment_setup import setups"
   ]
  },
  {
   "cell_type": "code",
   "execution_count": 2,
   "metadata": {},
   "outputs": [],
   "source": [
    "def create_gru4rec_script(model_name, train_path, test_path, loss, optim, const_emb, embed, final_act, layers, batch_size, dropout_p_embed, dropout_p_hidden, learning_rate, momentum, sample_alpha, bpreg, logq, hidden_act, n_epochs, n_sample, m):\n",
    "    ps = f\"layers={layers},loss={loss},bpreg={bpreg},logq={logq},final_act={final_act},hidden_act={hidden_act},n_epochs={n_epochs},batch_size={batch_size},dropout_p_embed={dropout_p_embed},dropout_p_hidden={dropout_p_hidden},learning_rate={learning_rate},momentum={momentum},sample_alpha={sample_alpha},n_sample={n_sample},constrained_embedding={const_emb},embedding={embed},adapt={optim},item_key=ItemId,session_key=SessionId,time_key=Time\"\n",
    "    python_path = \"PYTHONPATH=ffn4rec\"\n",
    "    script = f\"THEANO_FLAGS=device=cuda0 {python_path} python ./GRU4Rec/run.py {train_path} -t {test_path} -ps {ps} -g {model_name} -m {' '.join([str(x) for x in m])}\"\n",
    "    return script"
   ]
  },
  {
   "cell_type": "code",
   "execution_count": 3,
   "metadata": {},
   "outputs": [],
   "source": [
    "datasets = {\"Coveo\": \n",
    "            {\"train_path\": \"data/data_sources/coveo_ecommerce/coveo_processed_view_train_full.tsv\", \n",
    "             \"test_path\": \"data/data_sources/coveo_ecommerce/coveo_processed_view_test.tsv\"},\n",
    "            }\n",
    "metric_n = [1, 5, 10, 20]"
   ]
  },
  {
   "cell_type": "code",
   "execution_count": 4,
   "metadata": {},
   "outputs": [
    {
     "name": "stdout",
     "output_type": "stream",
     "text": [
      "executing script:\n",
      "THEANO_FLAGS=device=cuda0 PYTHONPATH=ffn4rec python ./GRU4Rec/run.py data/data_sources/coveo_ecommerce/coveo_processed_view_train_full.tsv -t data/data_sources/coveo_ecommerce/coveo_processed_view_test.tsv -ps layers=512,loss=bpr-max,bpreg=1.7,logq=0.0,final_act=elu-0.5,hidden_act=tanh,n_epochs=5,batch_size=112,dropout_p_embed=0.15,dropout_p_hidden=0.45,learning_rate=0.06,momentum=0.1,sample_alpha=0.0,n_sample=2048,constrained_embedding=True,embedding=0,adapt=adagrad,item_key=ItemId,session_key=SessionId,time_key=Time -g ffn4rec -m 1 5 10 20\n"
     ]
    },
    {
     "name": "stderr",
     "output_type": "stream",
     "text": [
      "WARNING (theano.tensor.blas): Using NumPy C-API based implementation for BLAS functions.\n",
      "Using cuDNN version 7104 on context None\n",
      "Mapped name None to device cuda0: NVIDIA GeForce GTX TITAN X (0000:02:00.0)\n"
     ]
    },
    {
     "name": "stdout",
     "output_type": "stream",
     "text": [
      "SET   layers                  TO   [512]       (type: <class 'list'>)\n",
      "SET   loss                    TO   bpr-max     (type: <class 'str'>)\n",
      "SET   bpreg                   TO   1.7         (type: <class 'float'>)\n",
      "SET   logq                    TO   0.0         (type: <class 'float'>)\n",
      "SET   final_act               TO   elu-0.5     (type: <class 'str'>)\n",
      "SET   hidden_act              TO   tanh        (type: <class 'str'>)\n",
      "SET   n_epochs                TO   5           (type: <class 'int'>)\n",
      "SET   batch_size              TO   112         (type: <class 'int'>)\n",
      "SET   dropout_p_embed         TO   0.15        (type: <class 'float'>)\n",
      "SET   dropout_p_hidden        TO   0.45        (type: <class 'float'>)\n",
      "SET   learning_rate           TO   0.06        (type: <class 'float'>)\n",
      "SET   momentum                TO   0.1         (type: <class 'float'>)\n",
      "SET   sample_alpha            TO   0.0         (type: <class 'float'>)\n",
      "SET   n_sample                TO   2048        (type: <class 'int'>)\n",
      "SET   constrained_embedding   TO   True        (type: <class 'bool'>)\n",
      "SET   embedding               TO   0           (type: <class 'int'>)\n",
      "SET   adapt                   TO   adagrad     (type: <class 'str'>)\n",
      "SET   item_key                TO   ItemId      (type: <class 'str'>)\n",
      "SET   session_key             TO   SessionId   (type: <class 'str'>)\n",
      "SET   time_key                TO   Time        (type: <class 'str'>)\n",
      "Loading training data...\n",
      "Loading data from TAB separated file: data/data_sources/coveo_ecommerce/coveo_processed_view_train_full.tsv\n",
      "Started training\n",
      "The dataframe is already sorted by SessionId, Time\n",
      "Created sample store with 4882 batches of samples (type=GPU)\n",
      "Epoch1 --> loss: 0.560191 \t(136.79s) \t[81.68 mb/s | 9104 e/s]\n",
      "Epoch2 --> loss: 0.520079 \t(138.26s) \t[80.82 mb/s | 9008 e/s]\n",
      "Epoch3 --> loss: 0.508593 \t(138.65s) \t[80.59 mb/s | 8983 e/s]\n",
      "Epoch4 --> loss: 0.501444 \t(138.66s) \t[80.58 mb/s | 8982 e/s]\n",
      "Epoch5 --> loss: 0.496470 \t(138.60s) \t[80.62 mb/s | 8986 e/s]\n",
      "Total training time: 716.68s\n",
      "Loading test data...\n",
      "Loading data from TAB separated file: data/data_sources/coveo_ecommerce/coveo_processed_view_test.tsv\n",
      "Starting evaluation (cut-off=1, using standard mode for tiebreaking)\n",
      "Measuring Recall@1 and MRR@1\n",
      "Evaluation took 11.81s\n",
      "Recall@1: 0.041383 MRR@1: 0.041383\n",
      "Starting evaluation (cut-off=5, using standard mode for tiebreaking)\n",
      "Measuring Recall@5 and MRR@5\n",
      "Evaluation took 5.11s\n",
      "Recall@5: 0.125735 MRR@5: 0.070514\n",
      "Starting evaluation (cut-off=10, using standard mode for tiebreaking)\n",
      "Measuring Recall@10 and MRR@10\n",
      "Evaluation took 5.21s\n",
      "Recall@10: 0.185507 MRR@10: 0.078368\n",
      "Starting evaluation (cut-off=20, using standard mode for tiebreaking)\n",
      "Measuring Recall@20 and MRR@20\n",
      "Evaluation took 5.15s\n",
      "Recall@20: 0.267111 MRR@20: 0.083937\n",
      "executing script:\n",
      "THEANO_FLAGS=device=cuda0 PYTHONPATH=ffn4rec python ./GRU4Rec/run.py data/data_sources/coveo_ecommerce/coveo_processed_view_train_full.tsv -t data/data_sources/coveo_ecommerce/coveo_processed_view_test.tsv -ps layers=512,loss=bpr-max,bpreg=1.85,logq=0.0,final_act=elu-1,hidden_act=tanh,n_epochs=5,batch_size=144,dropout_p_embed=0.35,dropout_p_hidden=0.0,learning_rate=0.05,momentum=0.4,sample_alpha=0.2,n_sample=2048,constrained_embedding=True,embedding=0,adapt=adagrad,item_key=ItemId,session_key=SessionId,time_key=Time -g gru4rec -m 1 5 10 20\n"
     ]
    },
    {
     "name": "stderr",
     "output_type": "stream",
     "text": [
      "WARNING (theano.tensor.blas): Using NumPy C-API based implementation for BLAS functions.\n",
      "Using cuDNN version 7104 on context None\n",
      "Mapped name None to device cuda0: NVIDIA GeForce GTX TITAN X (0000:02:00.0)\n"
     ]
    },
    {
     "name": "stdout",
     "output_type": "stream",
     "text": [
      "SET   layers                  TO   [512]       (type: <class 'list'>)\n",
      "SET   loss                    TO   bpr-max     (type: <class 'str'>)\n",
      "SET   bpreg                   TO   1.85        (type: <class 'float'>)\n",
      "SET   logq                    TO   0.0         (type: <class 'float'>)\n",
      "SET   final_act               TO   elu-1       (type: <class 'str'>)\n",
      "SET   hidden_act              TO   tanh        (type: <class 'str'>)\n",
      "SET   n_epochs                TO   5           (type: <class 'int'>)\n",
      "SET   batch_size              TO   144         (type: <class 'int'>)\n",
      "SET   dropout_p_embed         TO   0.35        (type: <class 'float'>)\n",
      "SET   dropout_p_hidden        TO   0.0         (type: <class 'float'>)\n",
      "SET   learning_rate           TO   0.05        (type: <class 'float'>)\n",
      "SET   momentum                TO   0.4         (type: <class 'float'>)\n",
      "SET   sample_alpha            TO   0.2         (type: <class 'float'>)\n",
      "SET   n_sample                TO   2048        (type: <class 'int'>)\n",
      "SET   constrained_embedding   TO   True        (type: <class 'bool'>)\n",
      "SET   embedding               TO   0           (type: <class 'int'>)\n",
      "SET   adapt                   TO   adagrad     (type: <class 'str'>)\n",
      "SET   item_key                TO   ItemId      (type: <class 'str'>)\n",
      "SET   session_key             TO   SessionId   (type: <class 'str'>)\n",
      "SET   time_key                TO   Time        (type: <class 'str'>)\n",
      "Loading training data...\n",
      "Loading data from TAB separated file: data/data_sources/coveo_ecommerce/coveo_processed_view_train_full.tsv\n",
      "Started training\n",
      "The dataframe is already sorted by SessionId, Time\n",
      "Created sample store with 4882 batches of samples (type=GPU)\n",
      "Epoch1 --> loss: 0.552556 \t(25.75s) \t[338.47 mb/s | 48365 e/s]\n",
      "Epoch2 --> loss: 0.514510 \t(27.85s) \t[312.99 mb/s | 44724 e/s]\n",
      "Epoch3 --> loss: 0.502195 \t(27.69s) \t[314.78 mb/s | 44979 e/s]\n",
      "Epoch4 --> loss: 0.494485 \t(27.47s) \t[317.28 mb/s | 45336 e/s]\n",
      "Epoch5 --> loss: 0.489008 \t(27.45s) \t[317.51 mb/s | 45369 e/s]\n",
      "Total training time: 156.69s\n",
      "Loading test data...\n",
      "Loading data from TAB separated file: data/data_sources/coveo_ecommerce/coveo_processed_view_test.tsv\n",
      "Starting evaluation (cut-off=1, using standard mode for tiebreaking)\n",
      "Measuring Recall@1 and MRR@1\n",
      "Evaluation took 5.72s\n",
      "Recall@1: 0.050254 MRR@1: 0.050254\n",
      "Starting evaluation (cut-off=5, using standard mode for tiebreaking)\n",
      "Measuring Recall@5 and MRR@5\n",
      "Evaluation took 1.49s\n",
      "Recall@5: 0.146270 MRR@5: 0.083671\n",
      "Starting evaluation (cut-off=10, using standard mode for tiebreaking)\n",
      "Measuring Recall@10 and MRR@10\n",
      "Evaluation took 1.46s\n",
      "Recall@10: 0.218868 MRR@10: 0.093261\n",
      "Starting evaluation (cut-off=20, using standard mode for tiebreaking)\n",
      "Measuring Recall@20 and MRR@20\n",
      "Evaluation took 1.47s\n",
      "Recall@20: 0.312135 MRR@20: 0.099625\n"
     ]
    }
   ],
   "source": [
    "n_epochs = 5\n",
    "for dataset_name, dataset_params in datasets.items():\n",
    "    for model_name in [\"ffn4rec\", \"gru4rec\"]:\n",
    "        params = setups[dataset_name.lower()][f\"{model_name}_params\"]\n",
    "        \n",
    "        loss = params[\"loss\"]\n",
    "        optim = params[\"optim\"]\n",
    "        const_emb = params[\"constrained_embedding\"]\n",
    "        embed = params[\"embedding\"]\n",
    "        final_act = params[\"final_act\"]\n",
    "        layers = params[\"layers\"]\n",
    "        batch_size = params[\"batch_size\"]\n",
    "        dropout_p_embed = params[\"dropout_p_embed\"]\n",
    "        dropout_p_hidden = params[\"dropout_p_hidden\"]\n",
    "        learning_rate = params[\"learning_rate\"]\n",
    "        momentum = params[\"momentum\"]\n",
    "        sample_alpha = params[\"sample_alpha\"]\n",
    "        bpreg = params[\"bpreg\"]\n",
    "        logq = params[\"logq\"]\n",
    "        hidden_act = params[\"hidden_act\"]\n",
    "        n_sample = params[\"n_sample\"]\n",
    "\n",
    "        script = create_gru4rec_script(model_name=model_name, train_path=dataset_params[\"train_path\"], test_path=dataset_params[\"test_path\"], loss=loss, optim=optim, const_emb=const_emb, embed=embed, final_act=final_act, layers=layers, batch_size=batch_size, dropout_p_embed=dropout_p_embed, dropout_p_hidden=dropout_p_hidden, learning_rate=learning_rate, momentum=momentum, sample_alpha=sample_alpha, bpreg=bpreg, logq=logq, hidden_act=hidden_act, n_epochs=n_epochs, n_sample=n_sample, m=metric_n)\n",
    "\n",
    "        print(f\"executing script:\\n{script}\")\n",
    "        os.system(script)"
   ]
  }
 ],
 "metadata": {
  "kernelspec": {
   "display_name": "eval_flaws",
   "language": "python",
   "name": "python3"
  },
  "language_info": {
   "codemirror_mode": {
    "name": "ipython",
    "version": 3
   },
   "file_extension": ".py",
   "mimetype": "text/x-python",
   "name": "python",
   "nbconvert_exporter": "python",
   "pygments_lexer": "ipython3",
   "version": "3.8.12"
  },
  "orig_nbformat": 4
 },
 "nbformat": 4,
 "nbformat_minor": 2
}
